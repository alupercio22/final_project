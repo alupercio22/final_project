{
 "metadata": {
  "language_info": {
   "codemirror_mode": {
    "name": "ipython",
    "version": 3
   },
   "file_extension": ".py",
   "mimetype": "text/x-python",
   "name": "python",
   "nbconvert_exporter": "python",
   "pygments_lexer": "ipython3",
   "version": "3.6.13-final"
  },
  "orig_nbformat": 2,
  "kernelspec": {
   "name": "python3",
   "display_name": "Python 3.6.13 64-bit ('test': conda)",
   "metadata": {
    "interpreter": {
     "hash": "ad0bd88d9e35637566447db892a3e6a89ccf7eed2dd78989a518e72182603bee"
    }
   }
  }
 },
 "nbformat": 4,
 "nbformat_minor": 2,
 "cells": [
  {
   "cell_type": "code",
   "execution_count": null,
   "metadata": {},
   "outputs": [],
   "source": [
    "import tensorflow as tf\n",
    "#identify GPU\n",
    "physical_devices = tf.config.list_physical_devices('GPU')\n",
    "#set max memory usage to 20% \n",
    "tf.config.experimental.set_memory_growth(physical_devices[0], True)\n",
    "\n",
    "from blackjack import BlackJack\n",
    "from DQNLearner import DQNLearner\n",
    "from QLearner import Qlearning\n",
    "import numpy as np\n",
    "import pandas as pd"
   ]
  },
  {
   "cell_type": "code",
   "execution_count": null,
   "metadata": {},
   "outputs": [],
   "source": [
    "def main():\n",
    "    learning_rounds = 1000000\n",
    "    game = BlackJack(learning_rounds, DQNLearner())\n",
    "    test_rounds = 1000\n",
    "    for k in range(0,learning_rounds + test_rounds):\n",
    "        game.run()\n",
    "\n",
    "    bestStrat_df = game.p.get_optimal_strategy()\n",
    "    print(bestStrat_df)\n",
    "    bestStrat_df.to_csv('policy.csv')"
   ]
  },
  {
   "cell_type": "code",
   "execution_count": null,
   "metadata": {},
   "outputs": [],
   "source": [
    "if __name__ == \"__main__\":\n",
    "    main()"
   ]
  },
  {
   "cell_type": "code",
   "execution_count": null,
   "metadata": {},
   "outputs": [],
   "source": []
  }
 ]
}